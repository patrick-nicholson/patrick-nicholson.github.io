{
 "cells": [
  {
   "cell_type": "markdown",
   "id": "3c688444-f81b-4c9e-85f2-88c961b3c3c2",
   "metadata": {
    "tags": [
     "remove_cell"
    ]
   },
   "source": [
    "# Universal reservoir: sampling a fixed number of elements from unbounded data"
   ]
  },
  {
   "cell_type": "markdown",
   "id": "65f60b90-9c4d-4f37-9f27-a7af47c55cf8",
   "metadata": {},
   "source": [
    "How would you draw a fixed sample size from a set? You might randomly choose indices in the range of the size of the set, then select the corresponding elements. What if your set is too big to hold all at once? If you know the size of your set, you can determine the sample fraction and sample with it.\n",
    "\n",
    "But what if you don't know the size of your set? Or it's so large that getting an exact answer is complicated enough?\n",
    "\n",
    "The concept of drawing a fixed number of elements from unbounded data is known as [reservoir sampling](https://en.wikipedia.org/wiki/Reservoir_sampling). Reservoir techniques provide statistically sound random samples in a single pass with no requirement of _a priori_ knowledge of the size of a sample.\n",
    "\n",
    "In [an earlier post](/2023/02/13/universal-sampling/), I covered universal sampling: the use of a universal hash function to make decisions about which elements to choose. In this post, I will cover the universal reservoir: the use of a universal hash function to create a universal sampling procedure."
   ]
  },
  {
   "cell_type": "code",
   "execution_count": 1,
   "id": "00144226-ea44-4485-8832-0f3727a58677",
   "metadata": {
    "tags": []
   },
   "outputs": [],
   "source": [
    "%matplotlib inline\n",
    "\n",
    "import matplotlib.pyplot as plt\n",
    "import numpy as np\n",
    "import pandas as pd\n",
    "import pyarrow.dataset as ds\n",
    "\n",
    "from sklearn.utils.murmurhash import (\n",
    "    murmurhash3_32 as _murmurhash3_32,\n",
    ")\n",
    "from timeit import timeit\n",
    "from tqdm.notebook import tqdm\n",
    "from typing import Iterable\n",
    "\n",
    "INT_MIN = np.int32(-(2**31))\n",
    "INT_MAX = np.int32(2**31 - 1)\n",
    "INT_RANGE = np.int64(2**32)\n",
    "\n",
    "random_state = np.random.RandomState(8675309)\n",
    "\n",
    "\n",
    "def murmurhash(values):\n",
    "    \"\"\"Wrapper for sklearn's MurmurHash that accepts most argument types\"\"\"\n",
    "    if np.ndim(values):\n",
    "        if np.issubdtype(values.dtype, np.int32):\n",
    "            return _murmurhash3_32(values)\n",
    "        return _mmhash_ufunc(values.astype(np.bytes_)).astype(\n",
    "            np.int32\n",
    "        )\n",
    "    if isinstance(values, (bytes, str, np.int32)):\n",
    "        return _murmurhash3_32(values)\n",
    "    return _mmhash_ufunc(np.array(values, dtype=np.bytes_))\n",
    "\n",
    "\n",
    "_mmhash_ufunc = np.frompyfunc(_murmurhash3_32, nin=1, nout=1)"
   ]
  },
  {
   "cell_type": "markdown",
   "id": "e415bede-e6c6-4d6d-84f6-e63cff7836a1",
   "metadata": {},
   "source": [
    "## Why should we use hash functions for reservoir sampling?\n",
    "\n",
    "Traditional reservoir sampling algorithms work when both of these conditions are met:\n",
    "\n",
    "1. Inputs are independent. For example, simple random sampling of rows or multistage sampling from deduplicated data. \n",
    "2. The desired sample size is small enough to efficiently hold in memory\n",
    "\n",
    "This conditions are very restrictive in practice. For example, we might want to sample devices from a large stream of advertising data for realtime monitoring and reporting on many different metrics (e.g., by client).\n",
    "\n",
    "1. The data are not independent. We must deduplicate and detect new devices prior to building the reservoir sampling.\n",
    "2. The true sample size is quickly infeasible; it's (sample size per metric) $\\times$ (number of metrics). We then find ourselves creating many different reservoirs and streams.\n",
    "\n",
    "Universal hash functions mitigate these issues. These functions efficiently and deterministically map inputs to uniformly distributed integers. \n",
    "\n",
    "1. Hash values are the same each time we see a device, so the original stream can be used directly to build a reservoir.\n",
    "2. We don't need to hold the entire reservoir state in memory, so we can easily scale the sample up to the size of the original data.\n",
    "\n",
    "Additional benefits include\n",
    "* insensitivity to data order\n",
    "* identical approach for different sampling schemes (e.g., simple random sampling and block sampling)\n",
    "* usable for in-memory data, distributed datasets, batch/minibatch updates, and single-event streams"
   ]
  },
  {
   "cell_type": "markdown",
   "id": "270aee3d-e24e-4b4c-8f10-de622864b621",
   "metadata": {
    "tags": []
   },
   "source": [
    "## A gentle introduction\n",
    "\n",
    "We start with a small set of values."
   ]
  },
  {
   "cell_type": "code",
   "execution_count": 2,
   "id": "21965460-6a9d-4fe3-a324-5f42cdf82444",
   "metadata": {
    "tags": []
   },
   "outputs": [],
   "source": [
    "set_size = 10**4\n",
    "sample_size = 10\n",
    "\n",
    "small_set = np.arange(set_size)\n",
    "random_state.shuffle(small_set)"
   ]
  },
  {
   "cell_type": "markdown",
   "id": "892b5a5b-564b-43f5-b317-c1d31c4ea4fa",
   "metadata": {},
   "source": [
    "With small, fixed sets, there is no issue choosing a fixed number of elements."
   ]
  },
  {
   "cell_type": "code",
   "execution_count": 3,
   "id": "3a21a005-0eed-4a80-9e43-e4206c1d9f8a",
   "metadata": {
    "tags": []
   },
   "outputs": [
    {
     "data": {
      "text/plain": [
       "array([7015, 4608, 5702, 8678, 2247, 1009, 4134, 6790, 8089, 8914])"
      ]
     },
     "execution_count": 3,
     "metadata": {},
     "output_type": "execute_result"
    }
   ],
   "source": [
    "sample = random_state.choice(\n",
    "    small_set, sample_size, replace=False\n",
    ")\n",
    "sample"
   ]
  },
  {
   "cell_type": "markdown",
   "id": "b1b25cc9-77e7-4cfe-89aa-3ae871f80f09",
   "metadata": {},
   "source": [
    "We can leverage the properties of universal hash functions to do this as well. Hash values are uncorrelated with inputs and are orderable. This means we can choose elements based on their hash order statistics."
   ]
  },
  {
   "cell_type": "code",
   "execution_count": 4,
   "id": "c3c5bbc6-076f-42f2-8658-a9ec886d277f",
   "metadata": {
    "tags": []
   },
   "outputs": [
    {
     "data": {
      "text/plain": [
       "array([ 693, 6495, 3449, 1432,  143, 9687, 2545, 3638, 7704, 7086])"
      ]
     },
     "execution_count": 4,
     "metadata": {},
     "output_type": "execute_result"
    }
   ],
   "source": [
    "hash_order = np.argsort(murmurhash(small_set))\n",
    "small_set[hash_order < sample_size]"
   ]
  },
  {
   "cell_type": "markdown",
   "id": "ad1a1234-ec19-43b6-bf4f-adfa9d62cb76",
   "metadata": {},
   "source": [
    "## A more practical demonstration\n",
    "\n",
    "The value of reservoir sampling is dealing with unbounded data. We simply need to maintain a set up to our sample size that contains the smallest hash values we've seen. This is most naturally represented as a sorted set. We sample from our inputs with hash values smaller than the $k$th hash in our state (the maximum hash value in our truncated set)."
   ]
  },
  {
   "cell_type": "code",
   "execution_count": 5,
   "id": "724019af-1ea8-4430-a31d-1bd96ab7c2cb",
   "metadata": {
    "tags": []
   },
   "outputs": [],
   "source": [
    "class HashReservoir:\n",
    "    \"\"\"Simple reservoir of hashes\n",
    "\n",
    "    Parameters\n",
    "    ----------\n",
    "    sample_size : int\n",
    "        Target size of the reservoir\n",
    "    \"\"\"\n",
    "\n",
    "    def __init__(self, sample_size: int):\n",
    "        self.sample_size = sample_size\n",
    "        self.hashes = (\n",
    "            np.zeros(self.sample_size, dtype=np.int32) + INT_MAX\n",
    "        )\n",
    "\n",
    "    def update(self, new_hashes: Iterable[int]):\n",
    "        \"\"\"Update the sorted set of hashes\"\"\"\n",
    "        new_hashes = np.setdiff1d(new_hashes, self.hashes)[\n",
    "            : self.sample_size\n",
    "        ]\n",
    "        insertion_points = np.searchsorted(\n",
    "            self.hashes, new_hashes\n",
    "        )\n",
    "        self.hashes[:] = np.insert(\n",
    "            self.hashes, insertion_points, new_hashes\n",
    "        )[: self.sample_size]\n",
    "        return self\n",
    "\n",
    "    @property\n",
    "    def kth_hash(self):\n",
    "        return self.hashes[-1]\n",
    "\n",
    "    def __repr__(self):\n",
    "        return (\n",
    "            f\"HashReservoir(sample_size={self.sample_size},\"\n",
    "            f\" kth_hash={self.kth_hash})\"\n",
    "        )"
   ]
  },
  {
   "cell_type": "code",
   "execution_count": 6,
   "id": "04a515ec-1a26-47ab-9f1b-4e8abd5640c2",
   "metadata": {
    "tags": []
   },
   "outputs": [
    {
     "data": {
      "text/plain": [
       "HashReservoir(sample_size=4096, kth_hash=-2129643907)"
      ]
     },
     "execution_count": 6,
     "metadata": {},
     "output_type": "execute_result"
    }
   ],
   "source": [
    "sample_size = 2**12\n",
    "hash_reservoir = HashReservoir(sample_size)\n",
    "\n",
    "set_size = 10**6\n",
    "minibatch_size = 10**3\n",
    "minibatches = set_size // minibatch_size\n",
    "values = random_state.uniform(size=set_size)\n",
    "\n",
    "# just for analysis later\n",
    "states = (\n",
    "    np.zeros((minibatches, sample_size), dtype=np.int32)\n",
    "    + INT_MAX\n",
    ")\n",
    "\n",
    "for i, minibatch in enumerate(np.split(values, minibatches)):\n",
    "    hashes = murmurhash(minibatch)\n",
    "    hash_reservoir.update(hashes)\n",
    "    states[i] = hash_reservoir.hashes\n",
    "\n",
    "hash_reservoir"
   ]
  },
  {
   "cell_type": "markdown",
   "id": "829da18d-ef89-4575-be90-51387d7030d8",
   "metadata": {},
   "source": [
    "Interestingly, our hash reservoir has also provided a [reasonable solution to the count-distinct problem](https://en.wikipedia.org/wiki/Count-distinct_problem#Bottom-m_sketches). Our $k$th hash is an estimate of the sample rate from the set of all processed hashes. This is the inverse estimator for the number of distinct elements we've seen. Our relatively small set gives us a relatively small error."
   ]
  },
  {
   "cell_type": "code",
   "execution_count": 7,
   "id": "a97ddd4c-7f9c-4436-b9f5-5bbf40301c62",
   "metadata": {
    "tags": []
   },
   "outputs": [
    {
     "data": {
      "text/plain": [
       "(986123.3996847824, -0.013973780400211978)"
      ]
     },
     "execution_count": 7,
     "metadata": {},
     "output_type": "execute_result"
    }
   ],
   "source": [
    "def _sample_rate(self):\n",
    "    if self.kth_hash < 0:\n",
    "        return -(INT_MIN - self.kth_hash) / INT_RANGE\n",
    "    if self.kth_has < INT_MAX:\n",
    "        return self.kth_hash / INT_MAX / 2 + 0.5\n",
    "    return 1.0\n",
    "\n",
    "\n",
    "def _nunique(self):\n",
    "    if self.kth_hash < INT_MAX:\n",
    "        return self.sample_size / self.sample_rate\n",
    "    return float(len(self.hashes))\n",
    "\n",
    "\n",
    "HashReservoir.sample_rate = property(_sample_rate)\n",
    "HashReservoir.nunique = property(_nunique)\n",
    "\n",
    "hash_reservoir.nunique, np.log(hash_reservoir.nunique / set_size)"
   ]
  },
  {
   "cell_type": "markdown",
   "id": "ce7df940-c7dc-4c2d-9ad4-5f9eb8d23b08",
   "metadata": {
    "tags": []
   },
   "source": [
    "Visualizing the state helps explain the sampling process. \n",
    "* In the first plot, we see the cumulative sample rate continually decreasing as the nubmer of distinct inputs increases in log-log fashion. \n",
    "* In the second, we see how the reservoir immediately and greedily fills, then old values are removed as we incorporate new inputs while maintaining that sample rate."
   ]
  },
  {
   "cell_type": "code",
   "execution_count": 8,
   "id": "dcb88108-394f-4e4c-bc74-8aa3d147aa31",
   "metadata": {
    "tags": []
   },
   "outputs": [
    {
     "data": {
      "image/png": "[encoded data removed]",
      "text/plain": [
       "<Figure size 640x480 with 2 Axes>"
      ]
     },
     "metadata": {},
     "output_type": "display_data"
    }
   ],
   "source": [
    "cumulative_size = (np.arange(minibatches) + 1) * minibatch_size\n",
    "kth_hashes = states[:, -1]\n",
    "_ = kth_hashes[-1] < states\n",
    "eventually_removed = (_ & (states < INT_MAX)).sum(axis=1)\n",
    "in_final_reservoir = (~_ & (states < INT_MAX)).sum(axis=1)\n",
    "\n",
    "sample_rates = np.where(\n",
    "    kth_hashes < INT_MAX,\n",
    "    np.where(\n",
    "        kth_hashes < 0,\n",
    "        -(INT_MIN - kth_hashes) / INT_RANGE,\n",
    "        kth_hashes / INT_MAX / 2 + 0.5,\n",
    "    ),\n",
    "    1.0,\n",
    ")\n",
    "\n",
    "fig, ax = plt.subplots(nrows=2)\n",
    "\n",
    "ax[0].plot(cumulative_size, sample_rates)\n",
    "ax[0].axvline(sample_size, ls=\"--\")\n",
    "ax[0].set(\n",
    "    title=\"Cumulative sample rate vs. cumulative size\",\n",
    "    xscale=\"log\",\n",
    "    yscale=\"log\",\n",
    "    xlabel=\"Cumulative size (log10)\",\n",
    "    ylabel=\"Rate (log10)\",\n",
    ")\n",
    "\n",
    "ax[1].plot(\n",
    "    cumulative_size,\n",
    "    in_final_reservoir,\n",
    "    label=\"In final reservoir\",\n",
    ")\n",
    "ax[1].plot(\n",
    "    cumulative_size,\n",
    "    eventually_removed,\n",
    "    label=\"Eventually removed\",\n",
    ")\n",
    "ax[1].set(\n",
    "    title=\"Sampled values and the final reservoir\",\n",
    "    xlabel=\"Cumulative size\",\n",
    "    ylabel=\"Count\",\n",
    ")\n",
    "ax[1].legend()\n",
    "\n",
    "fig.tight_layout();"
   ]
  },
  {
   "cell_type": "markdown",
   "id": "8860ac5f-d404-480b-9e9a-8267015f8130",
   "metadata": {},
   "source": [
    "## What if I need to take a much larger sample?\n",
    "\n",
    "My friend, it's turtles all the way down.\n",
    "\n",
    "As demonstrated above, we get a relatively good estimate of the number of unique values from a relatively small set. That means we can approximate the $k$th hash using a relatievly small hash reservoir.\n",
    "\n",
    "(No, there is nothing special about using a reservoir to estimate the number of unique values other than common implementation and ease of inspection. You could just as easily use HyperLogLog or whatever, subject to your particular restrictions.)"
   ]
  },
  {
   "cell_type": "code",
   "execution_count": 9,
   "id": "21606b64-91c7-4341-9d03-1b3ad67354e2",
   "metadata": {
    "tags": []
   },
   "outputs": [],
   "source": [
    "class ApproximateKth:\n",
    "    \"\"\"Simple approximation of kth hash value in a large set\n",
    "\n",
    "    Parameters\n",
    "    ----------\n",
    "    sample_size : int\n",
    "        Target size of the sample\n",
    "    reservoir_size : int\n",
    "        Size of the reservoir used to approximate our larger sample_size\n",
    "    \"\"\"\n",
    "\n",
    "    def __init__(self, sample_size: int, reservoir_size: int):\n",
    "        self.sample_size = sample_size\n",
    "        self.reservoir_size = reservoir_size\n",
    "        self.reservoir = HashReservoir(self.reservoir_size)\n",
    "\n",
    "    def update(self, new_hashes: Iterable[int]):\n",
    "        self.reservoir.update(new_hashes)\n",
    "        return self\n",
    "\n",
    "    @property\n",
    "    def kth_hash(self):\n",
    "        nunique = self.reservoir.nunique\n",
    "        if nunique < self.sample_size:\n",
    "            return INT_MAX\n",
    "        inverse, remainder = divmod(\n",
    "            INT_MIN + self.sample_size / nunique * INT_RANGE, 1\n",
    "        )\n",
    "        return int(inverse) + (remainder > 0)\n",
    "\n",
    "    sample_rate = property(_sample_rate)\n",
    "    nunique = property(_nunique)\n",
    "\n",
    "    def __repr__(self):\n",
    "        return (\n",
    "            f\"ApproximateKth(sample_size={self.sample_size},\"\n",
    "            f\" kth_hash={self.kth_hash},\"\n",
    "            f\" reservoir={self.reservoir})\"\n",
    "        )"
   ]
  },
  {
   "cell_type": "markdown",
   "id": "261d13b4-e33c-4547-be60-47b810f4fd26",
   "metadata": {},
   "source": [
    "We can test the efficiency and accuracy of this approach relative to an \"exact\" reservoir with a large-but-not-too-large sample size. In this single test, we approximate the $k$th hash with trivial error but about 24 times faster. The computational gains increase as sample size increases. In adtech, for example, there may be use cases for a sample size in the _billions_ (in which case you need to use a 64-bit hash function!)."
   ]
  },
  {
   "cell_type": "code",
   "execution_count": 10,
   "id": "394ffa7f-d7f9-4265-8993-8af8c54d71b5",
   "metadata": {
    "tags": []
   },
   "outputs": [
    {
     "data": {
      "application/vnd.jupyter.widget-view+json": {
       "model_id": "",
       "version_major": 2,
       "version_minor": 0
      },
      "text/plain": [
       "  0%|          | 0/100 [00:00<?, ?it/s]"
      ]
     },
     "metadata": {},
     "output_type": "display_data"
    },
    {
     "data": {
      "text/plain": [
       "(0.0, 23.63257755196555)"
      ]
     },
     "execution_count": 10,
     "metadata": {},
     "output_type": "execute_result"
    }
   ],
   "source": [
    "sample_size = 10**7\n",
    "reservoir_size = 2**12\n",
    "\n",
    "reservoir = HashReservoir(sample_size)\n",
    "approx = ApproximateKth(sample_size, reservoir_size)\n",
    "\n",
    "minibatch_size = 10**5\n",
    "minibatches = sample_size // minibatch_size\n",
    "reservoir_time, approx_time = 0, 0\n",
    "\n",
    "for batch in tqdm(range(minibatches), leave=False):\n",
    "    values = random_state.uniform(size=minibatch_size)\n",
    "    hashes = murmurhash(values)\n",
    "    reservoir_time += timeit(\n",
    "        lambda: reservoir.update(hashes), number=1\n",
    "    )\n",
    "    approx_time += timeit(\n",
    "        lambda: approx.update(hashes), number=1\n",
    "    )\n",
    "\n",
    "np.log(\n",
    "    reservoir.kth_hash / approx.kth_hash\n",
    "), reservoir_time / approx_time"
   ]
  },
  {
   "cell_type": "markdown",
   "id": "333de0bd-f48e-4afa-856f-1d02eda53000",
   "metadata": {},
   "source": [
    "## Wrapping up\n",
    "\n",
    "The unviversal reservoir (universal hashing + reservoir sampling) is straightforward to implement. It is subject to few restrictions that makes it useful for applied work, especially as we increase the volume or velocity of input data.\n",
    "\n",
    "In a following post, I will demonstrate a worked example of reservoir sampling for answering approximate queries in true real-time."
   ]
  }
 ],
 "metadata": {
  "kernelspec": {
   "display_name": "Python 3 (ipykernel)",
   "language": "python",
   "name": "python3"
  },
  "language_info": {
   "codemirror_mode": {
    "name": "ipython",
    "version": 3
   },
   "file_extension": ".py",
   "mimetype": "text/x-python",
   "name": "python",
   "nbconvert_exporter": "python",
   "pygments_lexer": "ipython3",
   "version": "3.10.9"
  }
 },
 "nbformat": 4,
 "nbformat_minor": 5
}
