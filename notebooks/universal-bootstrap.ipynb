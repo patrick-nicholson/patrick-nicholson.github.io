{
 "cells": [
  {
   "cell_type": "markdown",
   "metadata": {
    "tags": [
     "remove_cell"
    ]
   },
   "source": [
    "# Universal bootstrap: a superpower"
   ]
  },
  {
   "cell_type": "markdown",
   "metadata": {
    "tags": []
   },
   "source": [
    "> _Look on my computational methods, ye theorists, and despair_\n",
    "\n",
    "[Bootstrapping](https://en.wikipedia.org/wiki/Bootstrapping_(statistics)) is a commonly used technique for computational statistics and machine learning. \n",
    "* [Uncertainty quantification](https://en.wikipedia.org/wiki/Bootstrapping_(statistics)): an approximate distribution of a sample statistic (e.g., mean) is the empirical distribution of the same statistic calculated over bootstrap samples\n",
    "* [Bootstrap tests](https://en.wikipedia.org/wiki/Bootstrapping_(statistics)#Bootstrap_hypothesis_testing): a distribution-free hypothesis test by using the empirical distribution of the test statistic from bootstrap samples that randomize the test design\n",
    "* [Bagging](https://en.wikipedia.org/wiki/Bootstrap_aggregating): improving accuracy and reducing variance of a learner by training the model on subsets of resampled \n",
    "\n",
    "So how _should_ you bootstrap? In an earlier post, I covered [universal sampling](https://patrick-nicholson.github.io/2023/02/13/universal-sampling/) and its advantages. In this post, I show how this can be extended with sampling with replacement to create the universal bootstrap."
   ]
  },
  {
   "cell_type": "code",
   "execution_count": 1,
   "metadata": {
    "tags": []
   },
   "outputs": [],
   "source": [
    "import matplotlib.pyplot as plt\n",
    "import numpy as np\n",
    "import pandas as pd\n",
    "import statsmodels.formula.api as smf\n",
    "\n",
    "from IPython.display import Markdown\n",
    "from scipy import stats\n",
    "from sklearn.datasets import load_iris\n",
    "from sklearn.linear_model import LinearRegression\n",
    "from sklearn.utils.murmurhash import murmurhash3_32 as mmhash\n",
    "from uuid import uuid4\n",
    "\n",
    "%matplotlib inline\n",
    "\n",
    "random_state = np.random.RandomState(12345)"
   ]
  },
  {
   "cell_type": "markdown",
   "metadata": {},
   "source": [
    "## Key insight"
   ]
  },
  {
   "cell_type": "markdown",
   "metadata": {},
   "source": [
    "Bootstrapping is based on sampling with replacement. [Poisson sampling](https://en.wikipedia.org/wiki/Poisson_sampling) is one such method. For a sample size $N$ and resampling size $S$, the resampling weights for each observation follows the $\\text{Pois} \\left( \\frac{S}{N} \\right)$ distribution. The [Poisson bootstrap](https://en.wikipedia.org/wiki/Bootstrapping_(statistics)#Poisson_bootstrap), commonly used for bootstrapping streams and large datasets, is the particular case where $N = S$, i.e., $\\text{Pois}(1)$.\n",
    "\n",
    "In [my earlier post](https://patrick-nicholson.github.io/2023/02/13/universal-sampling/), I demonstrated a method of sampling from a Poisson distribution based on universal hash functions. Composing this with Poisson sampling gives us the universal bootstrap.\n",
    "\n",
    "In short:\n",
    "* A universal hash function deterministically maps an input to a uniformly distributed integer in the full integer range\n",
    "* Uniform integers can be transformed into Poisson values\n",
    "* Multiplying the hash value by another random integer yields an uncorrelated random integer\n",
    "* Ergo, mapping the products of a hash value by $r$ random integers to $\\text{Pois}(1)$ values provides $r$ deterministic bootstrap sample weights"
   ]
  },
  {
   "cell_type": "code",
   "execution_count": 2,
   "metadata": {
    "tags": []
   },
   "outputs": [],
   "source": [
    "def poisson_thresholds(lam, tol=None):\n",
    "    \"\"\"Threshold values (32-bit integers) for Poisson inverse transformation\"\"\"\n",
    "\n",
    "    tol = tol or 1e-6\n",
    "    pois = stats.poisson(lam)\n",
    "    lower, upper = np.ceil(pois.isf([1 - tol, tol])).astype(\n",
    "        np.int32\n",
    "    )\n",
    "    edges = (\n",
    "        pois.cdf(np.arange(lower, upper)) * 2**32 - 2**31\n",
    "    ).astype(np.int32)\n",
    "\n",
    "    # compress int.min\n",
    "    lower += (edges == -(2**31)).sum()\n",
    "    edges = edges[edges > -(2**31)]\n",
    "\n",
    "    # compress int.max\n",
    "    edges = np.r_[edges[edges < 2**31 - 1], 2**31 - 1]\n",
    "    upper = lower + len(edges) - 1\n",
    "\n",
    "    return lower, upper, edges\n",
    "\n",
    "\n",
    "def inverse_transform_search(thresholds, hash_values):\n",
    "    \"\"\"Inverse transform search with correction to thin out tails when there are duplicated thresholds\"\"\"\n",
    "    left = np.searchsorted(thresholds, hash_values, side=\"left\")\n",
    "    right = np.searchsorted(\n",
    "        thresholds, hash_values, side=\"right\"\n",
    "    )\n",
    "    return np.where(hash_values < 0, right, left)\n",
    "\n",
    "\n",
    "def poisson_sample_weight(hashes, lam, tol=None):\n",
    "    \"\"\"Poisson weights for an array of hashes\"\"\"\n",
    "    lower, _, edges = poisson_thresholds(lam, tol)\n",
    "    return inverse_transform_search(edges, hashes) + lower"
   ]
  },
  {
   "cell_type": "markdown",
   "metadata": {},
   "source": [
    "## Baby's first bootstrap\n",
    "\n",
    "The first thing a little data scientist learns to do with a bootstrap is to estimate a distribution around some sample statistic. Let's use our old friend `iris` for this."
   ]
  },
  {
   "cell_type": "code",
   "execution_count": 3,
   "metadata": {
    "tags": []
   },
   "outputs": [
    {
     "data": {
      "text/html": [
       "<div>\n",
       "<style scoped>\n",
       "    .dataframe tbody tr th:only-of-type {\n",
       "        vertical-align: middle;\n",
       "    }\n",
       "\n",
       "    .dataframe tbody tr th {\n",
       "        vertical-align: top;\n",
       "    }\n",
       "\n",
       "    .dataframe thead th {\n",
       "        text-align: right;\n",
       "    }\n",
       "</style>\n",
       "<table border=\"1\" class=\"dataframe\">\n",
       "  <thead>\n",
       "    <tr style=\"text-align: right;\">\n",
       "      <th></th>\n",
       "      <th>target</th>\n",
       "      <th>sepal_length</th>\n",
       "      <th>sepal_width</th>\n",
       "      <th>petal_length</th>\n",
       "      <th>petal_width</th>\n",
       "    </tr>\n",
       "  </thead>\n",
       "  <tbody>\n",
       "    <tr>\n",
       "      <th>0</th>\n",
       "      <td>0</td>\n",
       "      <td>5.1</td>\n",
       "      <td>3.5</td>\n",
       "      <td>1.4</td>\n",
       "      <td>0.2</td>\n",
       "    </tr>\n",
       "    <tr>\n",
       "      <th>1</th>\n",
       "      <td>0</td>\n",
       "      <td>4.9</td>\n",
       "      <td>3.0</td>\n",
       "      <td>1.4</td>\n",
       "      <td>0.2</td>\n",
       "    </tr>\n",
       "    <tr>\n",
       "      <th>2</th>\n",
       "      <td>0</td>\n",
       "      <td>4.7</td>\n",
       "      <td>3.2</td>\n",
       "      <td>1.3</td>\n",
       "      <td>0.2</td>\n",
       "    </tr>\n",
       "    <tr>\n",
       "      <th>3</th>\n",
       "      <td>0</td>\n",
       "      <td>4.6</td>\n",
       "      <td>3.1</td>\n",
       "      <td>1.5</td>\n",
       "      <td>0.2</td>\n",
       "    </tr>\n",
       "    <tr>\n",
       "      <th>4</th>\n",
       "      <td>0</td>\n",
       "      <td>5.0</td>\n",
       "      <td>3.6</td>\n",
       "      <td>1.4</td>\n",
       "      <td>0.2</td>\n",
       "    </tr>\n",
       "  </tbody>\n",
       "</table>\n",
       "</div>"
      ],
      "text/plain": [
       "   target  sepal_length  sepal_width  petal_length  petal_width\n",
       "0       0           5.1          3.5           1.4          0.2\n",
       "1       0           4.9          3.0           1.4          0.2\n",
       "2       0           4.7          3.2           1.3          0.2\n",
       "3       0           4.6          3.1           1.5          0.2\n",
       "4       0           5.0          3.6           1.4          0.2"
      ]
     },
     "execution_count": 3,
     "metadata": {},
     "output_type": "execute_result"
    }
   ],
   "source": [
    "bootstrap_replications = 200\n",
    "\n",
    "_ = load_iris(as_frame=True)\n",
    "iris = pd.concat([_[\"target\"], _[\"data\"]], axis=1)\n",
    "iris.columns = [\"_\".join(k.split()[:2]) for k in iris]\n",
    "\n",
    "iris.head()"
   ]
  },
  {
   "cell_type": "markdown",
   "metadata": {},
   "source": [
    "We use this to estimate some sample statistic."
   ]
  },
  {
   "cell_type": "code",
   "execution_count": 4,
   "metadata": {
    "tags": []
   },
   "outputs": [
    {
     "data": {
      "text/plain": [
       "5.843333333333334"
      ]
     },
     "execution_count": 4,
     "metadata": {},
     "output_type": "execute_result"
    }
   ],
   "source": [
    "iris[\"sepal_length\"].mean()"
   ]
  },
  {
   "cell_type": "markdown",
   "metadata": {},
   "source": [
    "A single bootstrap estimate is the same statistic applied to a resampled from the data. The empirical distribution of many different bootstrap replications is the bootstrap distribution of the statistic."
   ]
  },
  {
   "cell_type": "code",
   "execution_count": 5,
   "metadata": {
    "tags": []
   },
   "outputs": [
    {
     "data": {
      "text/plain": [
       "5.8580000000000005"
      ]
     },
     "execution_count": 5,
     "metadata": {},
     "output_type": "execute_result"
    }
   ],
   "source": [
    "iris[\"sepal_length\"].sample(frac=1.0, replace=True).mean()"
   ]
  },
  {
   "cell_type": "code",
   "execution_count": 6,
   "metadata": {
    "tags": []
   },
   "outputs": [
    {
     "data": {
      "image/png": "[encoded data removed]",
      "text/plain": [
       "<Figure size 640x480 with 1 Axes>"
      ]
     },
     "metadata": {},
     "output_type": "display_data"
    }
   ],
   "source": [
    "n = len(iris)\n",
    "\n",
    "baby_null = (\n",
    "    iris[\"sepal_length\"]\n",
    "    .sample(\n",
    "        frac=bootstrap_replications,\n",
    "        replace=True,\n",
    "        ignore_index=True,\n",
    "    )\n",
    "    .groupby(lambda i: i // n)\n",
    "    .mean()\n",
    ")\n",
    "\n",
    "fig, ax = plt.subplots()\n",
    "ax.hist(baby_null)\n",
    "ax.axvline(iris[\"sepal_length\"].mean(), c=\"red\")\n",
    "ax.set_title(\"Bootstrap distribution of a sample statistic\");"
   ]
  },
  {
   "cell_type": "markdown",
   "metadata": {},
   "source": [
    "A single universal bootstrap estimate is the sample statistic weighted by Poisson weights. The universal bootstrap distribution repeats this by randomizing the hashes and repeating the weighting process."
   ]
  },
  {
   "cell_type": "code",
   "execution_count": 7,
   "metadata": {
    "tags": []
   },
   "outputs": [
    {
     "data": {
      "text/plain": [
       "5.938410596026489"
      ]
     },
     "execution_count": 7,
     "metadata": {},
     "output_type": "execute_result"
    }
   ],
   "source": [
    "baby_hashes = mmhash(iris.index.values.astype(np.int32))\n",
    "np.average(\n",
    "    iris[\"sepal_length\"],\n",
    "    weights=poisson_sample_weight(baby_hashes, 1),\n",
    ")"
   ]
  },
  {
   "cell_type": "code",
   "execution_count": 8,
   "metadata": {
    "tags": []
   },
   "outputs": [
    {
     "data": {
      "image/png": "[encoded data removed]",
      "text/plain": [
       "<Figure size 640x480 with 1 Axes>"
      ]
     },
     "metadata": {},
     "output_type": "display_data"
    }
   ],
   "source": [
    "randomization = random_state.randint(\n",
    "    -(2**31), 2**31, bootstrap_replications, dtype=np.int32\n",
    ")\n",
    "baby_weights = poisson_sample_weight(\n",
    "    np.multiply.outer(baby_hashes, randomization), 1\n",
    ")\n",
    "poisson_baby_null = (\n",
    "    baby_weights * iris[\"sepal_length\"].values[:, None]\n",
    ").sum(axis=0) / baby_weights.sum(axis=0)\n",
    "\n",
    "fig, ax = plt.subplots()\n",
    "ax.hist(poisson_baby_null)\n",
    "ax.axvline(iris[\"sepal_length\"].mean(), c=\"red\")\n",
    "ax.set_title(\n",
    "    \"Universal bootstrap distribution of a sample statistic\"\n",
    ");"
   ]
  },
  {
   "cell_type": "markdown",
   "metadata": {},
   "source": [
    "Of course, you can also do this by repeating observations based on the Poisson weights."
   ]
  },
  {
   "cell_type": "code",
   "execution_count": 9,
   "metadata": {
    "tags": []
   },
   "outputs": [
    {
     "data": {
      "image/png": "[encoded data removed]",
      "text/plain": [
       "<Figure size 640x480 with 1 Axes>"
      ]
     },
     "metadata": {},
     "output_type": "display_data"
    }
   ],
   "source": [
    "values = np.tile(iris[\"sepal_length\"], bootstrap_replications)\n",
    "baby_weights = baby_weights.T.ravel()\n",
    "replications = np.repeat(\n",
    "    np.arange(bootstrap_replications), len(iris)\n",
    ")\n",
    "values, baby_weights, replications = (\n",
    "    values[baby_weights > 0],\n",
    "    baby_weights[baby_weights > 0],\n",
    "    replications[baby_weights > 0],\n",
    ")\n",
    "\n",
    "repeated_estimates = (\n",
    "    pd.Series(np.repeat(values, baby_weights))\n",
    "    .groupby(np.repeat(replications, baby_weights))\n",
    "    .mean()\n",
    ")\n",
    "\n",
    "fig, ax = plt.subplots()\n",
    "ax.hist(repeated_estimates)\n",
    "ax.axvline(iris[\"sepal_length\"].mean(), c=\"red\")\n",
    "ax.set_title(\n",
    "    \"Universal bootstrap distribution of a sample statistic by\"\n",
    "    \" repetition\"\n",
    ");"
   ]
  },
  {
   "cell_type": "markdown",
   "metadata": {},
   "source": [
    "## Universal bootstrap for hypothesis testing\n",
    "\n",
    "While baby's first bootstrap was fun and all, the practical power of bootstrapping is really revealed when estimating the $H_0$ distribution of a hypothesis test. \n",
    "\n",
    "Given a sample of $N = n^T + n^C$ units with $n^T$ test units and $n^C$ control units, a single bootstrap iteration samples (with replacement) pseudo-test and pseudo-control groups; each pseudo group is (approximately) the same size as the true group. That is, we randomly assign (with replacement) each unit to the pseudo groups. The iteration's sample statistic (e.g., difference in means) is then calculated from the pseudo groups.\n",
    "\n",
    "Let's simulate as simple experiment where an offer creates an average standardize effect of .1 on purchases."
   ]
  },
  {
   "cell_type": "code",
   "execution_count": 10,
   "metadata": {
    "tags": []
   },
   "outputs": [],
   "source": [
    "# number of customers\n",
    "num_customers = 10**5\n",
    "\n",
    "# percent of customers that received an offer\n",
    "test_percent_offer = 0.35\n",
    "\n",
    "# true effect of offer on standardized purchases\n",
    "true_effect_offer = 0.1\n",
    "\n",
    "# purchases across customers\n",
    "# - customer_uuid: a UUID4 for the customer\n",
    "# - customer_numeric_id: a serial ID for the customer\n",
    "# - received_offer: customer received an offer (binary)\n",
    "# - purchases: standardized purchases\n",
    "purchases = pd.DataFrame(\n",
    "    [\n",
    "        (\n",
    "            str(uuid4()),\n",
    "            numeric_id,\n",
    "            received_offer,\n",
    "            purchases + received_offer * offer_effect,\n",
    "        )\n",
    "        for numeric_id, (\n",
    "            received_offer,\n",
    "            purchases,\n",
    "            offer_effect,\n",
    "        ) in enumerate(\n",
    "            zip(\n",
    "                random_state.binomial(\n",
    "                    1, test_percent_offer, num_customers\n",
    "                ),\n",
    "                random_state.normal(0, 1, num_customers),\n",
    "                random_state.normal(\n",
    "                    true_effect_offer,\n",
    "                    true_effect_offer,\n",
    "                    num_customers,\n",
    "                ),\n",
    "            )\n",
    "        )\n",
    "    ],\n",
    "    columns=[\n",
    "        \"customer_uuid\",\n",
    "        \"customer_numeric_id\",\n",
    "        \"received_offer\",\n",
    "        \"purchases\",\n",
    "    ],\n",
    ")"
   ]
  },
  {
   "cell_type": "markdown",
   "metadata": {},
   "source": [
    "The universal bootstrap is changed only slightly: we now generate test and control weights according to their sample sizes. Each replication has pseudo-test and pseudo-control samples, from which we calculate the test value."
   ]
  },
  {
   "cell_type": "code",
   "execution_count": 11,
   "metadata": {
    "tags": []
   },
   "outputs": [],
   "source": [
    "test_randomization, control_randomization = random_state.randint(\n",
    "    -(2**31), 2**31, (2, bootstrap_replications), np.int32\n",
    ")"
   ]
  },
  {
   "cell_type": "markdown",
   "metadata": {},
   "source": [
    "The test is then comparing the null distribution to the observed statistic from the true test and control groups."
   ]
  },
  {
   "cell_type": "code",
   "execution_count": 12,
   "metadata": {
    "tags": []
   },
   "outputs": [
    {
     "data": {
      "image/png": "[encoded data removed]",
      "text/plain": [
       "<Figure size 640x480 with 1 Axes>"
      ]
     },
     "metadata": {},
     "output_type": "display_data"
    }
   ],
   "source": [
    "offer_hashes = (\n",
    "    purchases[\"customer_uuid\"]\n",
    "    .map(mmhash)\n",
    "    .values.astype(np.int32)\n",
    ")\n",
    "\n",
    "test_weights = poisson_sample_weight(\n",
    "    np.multiply.outer(offer_hashes, test_randomization),\n",
    "    test_percent_offer,\n",
    ")\n",
    "test = (test_weights.T * purchases[\"purchases\"].values).sum(\n",
    "    axis=1\n",
    ") / test_weights.sum(axis=0)\n",
    "del test_weights\n",
    "\n",
    "control_weights = poisson_sample_weight(\n",
    "    np.multiply.outer(offer_hashes, control_randomization),\n",
    "    1.0 - test_percent_offer,\n",
    ")\n",
    "control = (\n",
    "    control_weights.T * purchases[\"purchases\"].values\n",
    ").sum(axis=1) / control_weights.sum(axis=0)\n",
    "del control_weights\n",
    "\n",
    "offer_null_distribution = test - control\n",
    "\n",
    "control, test = purchases.groupby(\"received_offer\")[\n",
    "    \"purchases\"\n",
    "].mean()\n",
    "offer_point_est = test - control\n",
    "\n",
    "fig, ax = plt.subplots()\n",
    "ax.hist(offer_null_distribution)\n",
    "ax.axvline(offer_point_est, color=\"red\", ls=\"--\")\n",
    "ax.set_title(\n",
    "    \"Universal bootstrap test: null distribution vs. observed\"\n",
    "    \" difference\"\n",
    ");"
   ]
  },
  {
   "cell_type": "markdown",
   "metadata": {},
   "source": [
    "What if we have a more complicated experiment? Consider an educational intervention:\n",
    "* A test is taken twice\n",
    "* An intervention is applied to some classes after the first test\n",
    "* Classes are not identical: they have different average test scores\n",
    "* Test scores improve over time \n",
    "\n",
    "This is intentionally set up for a difference-in-differences design."
   ]
  },
  {
   "cell_type": "code",
   "execution_count": 13,
   "metadata": {
    "tags": []
   },
   "outputs": [],
   "source": [
    "# number of classes\n",
    "num_classes = 100\n",
    "\n",
    "# average number of students in a class\n",
    "avg_students = 25\n",
    "\n",
    "# average test scores differ between classes\n",
    "between_class_sd = 0.1\n",
    "\n",
    "# students improve on the test over time\n",
    "true_trend = 0.1\n",
    "\n",
    "# percent of classes receiving an intervention\n",
    "test_percent_class = 0.75\n",
    "\n",
    "# true effect of the intervention on standardized test scores\n",
    "true_effect_intervention = 0.05\n",
    "\n",
    "# test scores in two periods for students within classes\n",
    "# - class_id: unique class identifier\n",
    "# - student_num: anonymous student number within class\n",
    "# - intervention_class: class received intervention (binary)\n",
    "# - post_period: score is for the second test (post intervention, if received)\n",
    "# - score: standardized test score\n",
    "test_scores = pd.DataFrame(\n",
    "    [\n",
    "        (\n",
    "            class_id,\n",
    "            student_num,\n",
    "            intervention_class,\n",
    "            post_period,\n",
    "            start_score\n",
    "            + post_period * trend\n",
    "            + post_period\n",
    "            * intervention_class\n",
    "            * intervention_effect,\n",
    "        )\n",
    "        for class_id, (\n",
    "            students,\n",
    "            class_avg_score,\n",
    "            intervention_class,\n",
    "        ) in enumerate(\n",
    "            zip(\n",
    "                random_state.poisson(avg_students, num_classes),\n",
    "                random_state.normal(\n",
    "                    0, between_class_sd, num_classes\n",
    "                ),\n",
    "                random_state.binomial(\n",
    "                    1, test_percent_class, num_classes\n",
    "                ),\n",
    "            )\n",
    "        )\n",
    "        for student_num, (\n",
    "            start_score,\n",
    "            intervention_effect,\n",
    "        ) in enumerate(\n",
    "            zip(\n",
    "                random_state.normal(\n",
    "                    class_avg_score, 1, students\n",
    "                ),\n",
    "                random_state.normal(\n",
    "                    true_effect_intervention,\n",
    "                    true_effect_intervention / 2.8,\n",
    "                    students,\n",
    "                ),\n",
    "            )\n",
    "        )\n",
    "        for post_period, trend in enumerate(\n",
    "            random_state.normal(true_trend, true_trend / 2.8, 2)\n",
    "        )\n",
    "    ],\n",
    "    columns=[\n",
    "        \"class_id\",\n",
    "        \"student_num\",\n",
    "        \"intervention_class\",\n",
    "        \"post_period\",\n",
    "        \"score\",\n",
    "    ],\n",
    ")"
   ]
  },
  {
   "cell_type": "markdown",
   "metadata": {},
   "source": [
    "Correct measurement requires correct specification of standard errors. Standard covariances are too large to draw the correct inference; clustered standard errors are necessary."
   ]
  },
  {
   "cell_type": "code",
   "execution_count": 14,
   "metadata": {
    "tags": []
   },
   "outputs": [
    {
     "data": {
      "text/html": [
       "<table class=\"simpletable\">\n",
       "<caption>OLS Regression Results</caption>\n",
       "<tr>\n",
       "  <th>Dep. Variable:</th>      <td>score</td>   <th>  R-squared:         </th> <td>   0.006</td>\n",
       "</tr>\n",
       "<tr>\n",
       "  <th>Model:</th>               <td>OLS</td>    <th>  Adj. R-squared:    </th> <td>   0.005</td>\n",
       "</tr>\n",
       "<tr>\n",
       "  <th>No. Observations:</th>  <td>  5034</td>   <th>  F-statistic:       </th> <td>   10.26</td>\n",
       "</tr>\n",
       "<tr>\n",
       "  <th>Covariance Type:</th>  <td>nonrobust</td> <th>  Prob (F-statistic):</th> <td>9.91e-07</td>\n",
       "</tr>\n",
       "</table>\n",
       "<table class=\"simpletable\">\n",
       "<tr>\n",
       "                 <td></td>                   <th>coef</th>     <th>std err</th>      <th>t</th>      <th>P>|t|</th>  <th>[0.025</th>    <th>0.975]</th>  \n",
       "</tr>\n",
       "<tr>\n",
       "  <th>Intercept</th>                      <td>    0.0911</td> <td>    0.040</td> <td>    2.277</td> <td> 0.023</td> <td>    0.013</td> <td>    0.170</td>\n",
       "</tr>\n",
       "<tr>\n",
       "  <th>intervention_class</th>             <td>   -0.1029</td> <td>    0.046</td> <td>   -2.239</td> <td> 0.025</td> <td>   -0.193</td> <td>   -0.013</td>\n",
       "</tr>\n",
       "<tr>\n",
       "  <th>post_period</th>                    <td>    0.0986</td> <td>    0.057</td> <td>    1.741</td> <td> 0.082</td> <td>   -0.012</td> <td>    0.210</td>\n",
       "</tr>\n",
       "<tr>\n",
       "  <th>intervention_class:post_period</th> <td>    0.0517</td> <td>    0.065</td> <td>    0.795</td> <td> 0.426</td> <td>   -0.076</td> <td>    0.179</td>\n",
       "</tr>\n",
       "</table><br/><br/>Notes:<br/>[1] Standard Errors assume that the covariance matrix of the errors is correctly specified."
      ],
      "text/plain": [
       "<class 'statsmodels.iolib.summary.Summary'>\n",
       "\"\"\"\n",
       "                            OLS Regression Results                            \n",
       "==============================================================================\n",
       "Dep. Variable:                  score   R-squared:                       0.006\n",
       "Model:                            OLS   Adj. R-squared:                  0.005\n",
       "No. Observations:                5034   F-statistic:                     10.26\n",
       "Covariance Type:            nonrobust   Prob (F-statistic):           9.91e-07\n",
       "==================================================================================================\n",
       "                                     coef    std err          t      P>|t|      [0.025      0.975]\n",
       "--------------------------------------------------------------------------------------------------\n",
       "Intercept                          0.0911      0.040      2.277      0.023       0.013       0.170\n",
       "intervention_class                -0.1029      0.046     -2.239      0.025      -0.193      -0.013\n",
       "post_period                        0.0986      0.057      1.741      0.082      -0.012       0.210\n",
       "intervention_class:post_period     0.0517      0.065      0.795      0.426      -0.076       0.179\n",
       "==================================================================================================\n",
       "\n",
       "Notes:\n",
       "[1] Standard Errors assume that the covariance matrix of the errors is correctly specified.\n",
       "\"\"\""
      ]
     },
     "execution_count": 14,
     "metadata": {},
     "output_type": "execute_result"
    }
   ],
   "source": [
    "fit = smf.ols(\n",
    "    \"score ~ intervention_class * post_period\", test_scores\n",
    ").fit()\n",
    "fit.summary(slim=True)"
   ]
  },
  {
   "cell_type": "code",
   "execution_count": 15,
   "metadata": {
    "tags": []
   },
   "outputs": [
    {
     "data": {
      "text/html": [
       "<table class=\"simpletable\">\n",
       "<caption>OLS Regression Results</caption>\n",
       "<tr>\n",
       "  <th>Dep. Variable:</th>     <td>score</td>  <th>  R-squared:         </th> <td>   0.006</td> \n",
       "</tr>\n",
       "<tr>\n",
       "  <th>Model:</th>              <td>OLS</td>   <th>  Adj. R-squared:    </th> <td>   0.005</td> \n",
       "</tr>\n",
       "<tr>\n",
       "  <th>No. Observations:</th> <td>  5034</td>  <th>  F-statistic:       </th> <td>1.057e+04</td>\n",
       "</tr>\n",
       "<tr>\n",
       "  <th>Covariance Type:</th>  <td>cluster</td> <th>  Prob (F-statistic):</th> <td>6.46e-124</td>\n",
       "</tr>\n",
       "</table>\n",
       "<table class=\"simpletable\">\n",
       "<tr>\n",
       "                 <td></td>                   <th>coef</th>     <th>std err</th>      <th>t</th>      <th>P>|t|</th>  <th>[0.025</th>    <th>0.975]</th>  \n",
       "</tr>\n",
       "<tr>\n",
       "  <th>Intercept</th>                      <td>    0.0911</td> <td>    0.039</td> <td>    2.342</td> <td> 0.021</td> <td>    0.014</td> <td>    0.168</td>\n",
       "</tr>\n",
       "<tr>\n",
       "  <th>intervention_class</th>             <td>   -0.1029</td> <td>    0.048</td> <td>   -2.131</td> <td> 0.036</td> <td>   -0.199</td> <td>   -0.007</td>\n",
       "</tr>\n",
       "<tr>\n",
       "  <th>post_period</th>                    <td>    0.0986</td> <td>    0.001</td> <td>   82.473</td> <td> 0.000</td> <td>    0.096</td> <td>    0.101</td>\n",
       "</tr>\n",
       "<tr>\n",
       "  <th>intervention_class:post_period</th> <td>    0.0517</td> <td>    0.002</td> <td>   33.734</td> <td> 0.000</td> <td>    0.049</td> <td>    0.055</td>\n",
       "</tr>\n",
       "</table><br/><br/>Notes:<br/>[1] Standard Errors are robust to cluster correlation (cluster)"
      ],
      "text/plain": [
       "<class 'statsmodels.iolib.summary.Summary'>\n",
       "\"\"\"\n",
       "                            OLS Regression Results                            \n",
       "==============================================================================\n",
       "Dep. Variable:                  score   R-squared:                       0.006\n",
       "Model:                            OLS   Adj. R-squared:                  0.005\n",
       "No. Observations:                5034   F-statistic:                 1.057e+04\n",
       "Covariance Type:              cluster   Prob (F-statistic):          6.46e-124\n",
       "==================================================================================================\n",
       "                                     coef    std err          t      P>|t|      [0.025      0.975]\n",
       "--------------------------------------------------------------------------------------------------\n",
       "Intercept                          0.0911      0.039      2.342      0.021       0.014       0.168\n",
       "intervention_class                -0.1029      0.048     -2.131      0.036      -0.199      -0.007\n",
       "post_period                        0.0986      0.001     82.473      0.000       0.096       0.101\n",
       "intervention_class:post_period     0.0517      0.002     33.734      0.000       0.049       0.055\n",
       "==================================================================================================\n",
       "\n",
       "Notes:\n",
       "[1] Standard Errors are robust to cluster correlation (cluster)\n",
       "\"\"\""
      ]
     },
     "execution_count": 15,
     "metadata": {},
     "output_type": "execute_result"
    }
   ],
   "source": [
    "fit.get_robustcov_results(\n",
    "    cov_type=\"cluster\", groups=test_scores[\"class_id\"]\n",
    ").summary(slim=True)"
   ]
  },
  {
   "cell_type": "markdown",
   "metadata": {},
   "source": [
    "As universal bootstrap is based on universal sampling, it is  straightforward to implement complex designs. In this case, the intervention is applied at the class level, so we hash the class ID."
   ]
  },
  {
   "cell_type": "code",
   "execution_count": 16,
   "metadata": {
    "tags": []
   },
   "outputs": [
    {
     "data": {
      "image/png": "[encoded data removed]",
      "text/plain": [
       "<Figure size 640x480 with 1 Axes>"
      ]
     },
     "metadata": {},
     "output_type": "display_data"
    }
   ],
   "source": [
    "edu_hashes = mmhash(\n",
    "    test_scores[\"class_id\"].values.astype(np.int32)\n",
    ")\n",
    "edu_null = np.zeros(bootstrap_replications)\n",
    "\n",
    "for i, random in enumerate(\n",
    "    np.vstack([test_randomization, control_randomization]).T\n",
    "):\n",
    "    test_random, control_random = np.multiply.outer(\n",
    "        edu_hashes, random\n",
    "    ).T\n",
    "    test_weights = poisson_sample_weight(\n",
    "        test_random, test_percent_class\n",
    "    )\n",
    "    control_weights = poisson_sample_weight(\n",
    "        control_random, 1 - test_percent_class\n",
    "    )\n",
    "\n",
    "    df = (\n",
    "        pd.concat(\n",
    "            [\n",
    "                test_scores.assign(test=1, weight=test_weights),\n",
    "                test_scores.assign(\n",
    "                    test=0, weight=control_weights\n",
    "                ),\n",
    "            ]\n",
    "        )\n",
    "        .query(\"weight > 0\")\n",
    "        .eval(\"test_post = test * post_period\")\n",
    "    )\n",
    "\n",
    "    ols = LinearRegression().fit(\n",
    "        df[[\"test\", \"post_period\", \"test_post\"]], df[\"score\"]\n",
    "    )\n",
    "    edu_null[i] = ols.coef_[-1]\n",
    "\n",
    "edu_point_est = fit.params[\"intervention_class:post_period\"]\n",
    "\n",
    "fig, ax = plt.subplots()\n",
    "ax.hist(edu_null)\n",
    "ax.axvline(edu_point_est, color=\"red\", ls=\"--\")\n",
    "ax.set_title(\n",
    "    \"Clustered universal bootstrap: null distribution vs. point\"\n",
    "    \" estimate\"\n",
    ");"
   ]
  },
  {
   "cell_type": "markdown",
   "metadata": {},
   "source": [
    "## Wrapping up\n",
    "\n",
    "Universal bootstrap is simply the application of Poisson bootstrap leveraging the strengths of universal sampling. It provides true determinism; efficiency in dataset or streams of any size; and straightforward application of complex sampling designs. In my next post, I'll cover how this can be done in SQL."
   ]
  }
 ],
 "metadata": {
  "kernelspec": {
   "display_name": "Python 3 (ipykernel)",
   "language": "python",
   "name": "python3"
  },
  "language_info": {
   "codemirror_mode": {
    "name": "ipython",
    "version": 3
   },
   "file_extension": ".py",
   "mimetype": "text/x-python",
   "name": "python",
   "nbconvert_exporter": "python",
   "pygments_lexer": "ipython3",
   "version": "3.10.9"
  },
  "toc-showtags": true
 },
 "nbformat": 4,
 "nbformat_minor": 4
}
